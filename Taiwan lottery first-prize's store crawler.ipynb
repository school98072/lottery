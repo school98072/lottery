{
 "cells": [
  {
   "cell_type": "code",
   "execution_count": 1,
   "metadata": {},
   "outputs": [],
   "source": [
    "# temp variable\n",
    "header_tmp = []\n",
    "id_tmp = []\n",
    "period_tmp=[]\n",
    "date_tmp=[]\n",
    "store_tmp=[]\n",
    "address_tmp=[]"
   ]
  },
  {
   "cell_type": "code",
   "execution_count": 2,
   "id": "norwegian-proposal",
   "metadata": {
    "tags": []
   },
   "outputs": [],
   "source": [
    "import requests\n",
    "#使用requests get url\n",
    "url='https://www.taiwanlottery.com.tw/Lotto/se/store.aspx?TYPE=539'\n",
    "html_content = requests.get(url).text"
   ]
  },
  {
   "cell_type": "code",
   "execution_count": 3,
   "metadata": {
    "tags": []
   },
   "outputs": [],
   "source": [
    "\n",
    "#從bs4 導入 BeautifulSoup\n",
    "from bs4 import BeautifulSoup\n",
    "#使用BeautifulSoup解讀\n",
    "soup = BeautifulSoup(html_content,'lxml')\n",
    "# print(soup)"
   ]
  },
  {
   "cell_type": "code",
   "execution_count": 4,
   "id": "legislative-surfing",
   "metadata": {},
   "outputs": [
    {
     "output_type": "stream",
     "name": "stdout",
     "text": [
      "<table cellpadding=\"4\" cellspacing=\"0\" class=\"table_face\" id=\"StoreControl1_GridView1\" style=\"color:#333333;width:77%;border-collapse:collapse;\">\n<tr class=\"table_firstline_left\" style=\"color:Black;background-color:#FFCC66;font-weight:bold;\">\n<th align=\"center\" scope=\"col\" style=\"width:3%;white-space:nowrap;\">編號</th><th align=\"center\" scope=\"col\" style=\"white-space:nowrap;\">期別</th><th align=\"center\" scope=\"col\" style=\"white-space:nowrap;\">開獎日期</th><th align=\"center\" scope=\"col\">售出頭獎商店名稱</th><th align=\"center\" scope=\"col\">售出頭獎商店地址</th>\n</tr><tr class=\"table_level_2\" style=\"background-color:#FFFFCC;\">\n<td align=\"center\" style=\"width:3%;white-space:nowrap;\">154</td><td align=\"center\" style=\"white-space:nowrap;\">\n<span id=\"StoreControl1_GridView1_Label1_0\">110000015</span>\n</td><td align=\"center\" style=\"white-space:nowrap;\">\n<span id=\"StoreControl1_GridView1_Label2_0\">110/2/12</span>\n</td><td align=\"left\" style=\"width:20%;\">\n<span id=\"StoreControl1_GridView1_Label3_0\">福運彩券行</span>\n</td><td align=\"left\" style=\"width:50%;\">\n<span id=\"StoreControl1_GridView1_Label4_0\">台北市大同區承德路一段１２號</span>\n</td>\n</tr><tr class=\"table_level_1\" style=\"background-color:#DEE9ED;\">\n<td align=\"center\" style=\"width:3%;white-space:nowrap;\">153</td><td align=\"center\" style=\"white-space:nowrap;\">\n<span id=\"StoreControl1_GridView1_Label1_1\">110000015</span>\n</td><td align=\"center\" style=\"white-space:nowrap;\">\n<span id=\"StoreControl1_GridView1_Label2_1\">110/2/12</span>\n</td><td align=\"left\" style=\"width:20%;\">\n<span id=\"StoreControl1_GridView1_Label3_1\">億來發彩券行</span>\n</td><td align=\"left\" style=\"width:50%;\">\n<span id=\"StoreControl1_GridView1_Label4_1\">台南市中西區三合里金華路四段１５７號１樓</span>\n</td>\n</tr><tr class=\"table_level_2\" style=\"background-color:#FFFFCC;\">\n<td align=\"center\" style=\"width:3%;white-space:nowrap;\">152</td><td align=\"center\" style=\"white-space:nowrap;\">\n<span id=\"StoreControl1_GridView1_Label1_2\">110000014</span>\n</td><td align=\"center\" style=\"white-space:nowrap;\">\n<span id=\"StoreControl1_GridView1_Label2_2\">110/2/11</span>\n</td><td align=\"left\" style=\"width:20%;\">\n<span id=\"StoreControl1_GridView1_Label3_2\">沅亨商行</span>\n</td><td align=\"left\" style=\"width:50%;\">\n<span id=\"StoreControl1_GridView1_Label4_2\">桃園市大溪區一心里２７鄰復興路１０號１樓</span>\n</td>\n</tr><tr class=\"table_level_1\" style=\"background-color:#DEE9ED;\">\n<td align=\"center\" style=\"width:3%;white-space:nowrap;\">151</td><td align=\"center\" style=\"white-space:nowrap;\">\n<span id=\"StoreControl1_GridView1_Label1_3\">110000013</span>\n</td><td align=\"center\" style=\"white-space:nowrap;\">\n<span id=\"StoreControl1_GridView1_Label2_3\">110/2/10</span>\n</td><td align=\"left\" style=\"width:20%;\">\n<span id=\"StoreControl1_GridView1_Label3_3\">有錢尚好樂透站</span>\n</td><td align=\"left\" style=\"width:50%;\">\n<span id=\"StoreControl1_GridView1_Label4_3\">台中市霧峰區北柳里四德路４４９號１樓</span>\n</td>\n</tr><tr class=\"table_level_2\" style=\"background-color:#FFFFCC;\">\n<td align=\"center\" style=\"width:3%;white-space:nowrap;\">150</td><td align=\"center\" style=\"white-space:nowrap;\">\n<span id=\"StoreControl1_GridView1_Label1_4\">109000107</span>\n</td><td align=\"center\" style=\"white-space:nowrap;\">\n<span id=\"StoreControl1_GridView1_Label2_4\">109/12/11</span>\n</td><td align=\"left\" style=\"width:20%;\">\n<span id=\"StoreControl1_GridView1_Label3_4\">鑫采紅彩券行</span>\n</td><td align=\"left\" style=\"width:50%;\">\n<span id=\"StoreControl1_GridView1_Label4_4\">高雄市左營區自由三路２９２號</span>\n</td>\n</tr><tr class=\"table_level_1\" style=\"background-color:#DEE9ED;\">\n<td align=\"center\" style=\"width:3%;white-space:nowrap;\">149</td><td align=\"center\" style=\"white-space:nowrap;\">\n<span id=\"StoreControl1_GridView1_Label1_5\">109000090</span>\n</td><td align=\"center\" style=\"white-space:nowrap;\">\n<span id=\"StoreControl1_GridView1_Label2_5\">109/10/13</span>\n</td><td align=\"left\" style=\"width:20%;\">\n<span id=\"StoreControl1_GridView1_Label3_5\">聚寶盆彩券商行</span>\n</td><td align=\"left\" style=\"width:50%;\">\n<span id=\"StoreControl1_GridView1_Label4_5\">台南市北區成功路１７０號１樓</span>\n</td>\n</tr><tr class=\"table_level_2\" style=\"background-color:#FFFFCC;\">\n<td align=\"center\" style=\"width:3%;white-space:nowrap;\">148</td><td align=\"center\" style=\"white-space:nowrap;\">\n<span id=\"StoreControl1_GridView1_Label1_6\">109000090</span>\n</td><td align=\"center\" style=\"white-space:nowrap;\">\n<span id=\"StoreControl1_GridView1_Label2_6\">109/10/13</span>\n</td><td align=\"left\" style=\"width:20%;\">\n<span id=\"StoreControl1_GridView1_Label3_6\">鑫寶金財神彩券行</span>\n</td><td align=\"left\" style=\"width:50%;\">\n<span id=\"StoreControl1_GridView1_Label4_6\">台中市沙鹿區鎮南路二段２３１號</span>\n</td>\n</tr><tr class=\"table_level_1\" style=\"background-color:#DEE9ED;\">\n<td align=\"center\" style=\"width:3%;white-space:nowrap;\">147</td><td align=\"center\" style=\"white-space:nowrap;\">\n<span id=\"StoreControl1_GridView1_Label1_7\">109000085</span>\n</td><td align=\"center\" style=\"white-space:nowrap;\">\n<span id=\"StoreControl1_GridView1_Label2_7\">109/9/25</span>\n</td><td align=\"left\" style=\"width:20%;\">\n<span id=\"StoreControl1_GridView1_Label3_7\">金包銀彩券行</span>\n</td><td align=\"left\" style=\"width:50%;\">\n<span id=\"StoreControl1_GridView1_Label4_7\">台南市北區北安路一段１７２號１樓</span>\n</td>\n</tr><tr class=\"table_level_2\" style=\"background-color:#FFFFCC;\">\n<td align=\"center\" style=\"width:3%;white-space:nowrap;\">146</td><td align=\"center\" style=\"white-space:nowrap;\">\n<span id=\"StoreControl1_GridView1_Label1_8\">109000082</span>\n</td><td align=\"center\" style=\"white-space:nowrap;\">\n<span id=\"StoreControl1_GridView1_Label2_8\">109/9/15</span>\n</td><td align=\"left\" style=\"width:20%;\">\n<span id=\"StoreControl1_GridView1_Label3_8\">吉時樂彩券行</span>\n</td><td align=\"left\" style=\"width:50%;\">\n<span id=\"StoreControl1_GridView1_Label4_8\">彰化縣北斗鎮西安里斗苑路２段１８號１樓</span>\n</td>\n</tr><tr class=\"table_level_1\" style=\"background-color:#DEE9ED;\">\n<td align=\"center\" style=\"width:3%;white-space:nowrap;\">145</td><td align=\"center\" style=\"white-space:nowrap;\">\n<span id=\"StoreControl1_GridView1_Label1_9\">109000078</span>\n</td><td align=\"center\" style=\"white-space:nowrap;\">\n<span id=\"StoreControl1_GridView1_Label2_9\">109/9/1</span>\n</td><td align=\"left\" style=\"width:20%;\">\n<span id=\"StoreControl1_GridView1_Label3_9\">工學彩券行</span>\n</td><td align=\"left\" style=\"width:50%;\">\n<span id=\"StoreControl1_GridView1_Label4_9\">台中市南區工學里工學路１４３號１樓</span>\n</td>\n</tr><tr class=\"table_level_2\" style=\"background-color:#FFFFCC;\">\n<td align=\"center\" style=\"width:3%;white-space:nowrap;\">144</td><td align=\"center\" style=\"white-space:nowrap;\">\n<span id=\"StoreControl1_GridView1_Label1_10\">109000072</span>\n</td><td align=\"center\" style=\"white-space:nowrap;\">\n<span id=\"StoreControl1_GridView1_Label2_10\">109/8/11</span>\n</td><td align=\"left\" style=\"width:20%;\">\n<span id=\"StoreControl1_GridView1_Label3_10\">來富貴彩券行</span>\n</td><td align=\"left\" style=\"width:50%;\">\n<span id=\"StoreControl1_GridView1_Label4_10\">台中市東區東勢里精武路１４９號</span>\n</td>\n</tr><tr class=\"table_level_1\" style=\"background-color:#DEE9ED;\">\n<td align=\"center\" style=\"width:3%;white-space:nowrap;\">143</td><td align=\"center\" style=\"white-space:nowrap;\">\n<span id=\"StoreControl1_GridView1_Label1_11\">109000066</span>\n</td><td align=\"center\" style=\"white-space:nowrap;\">\n<span id=\"StoreControl1_GridView1_Label2_11\">109/7/21</span>\n</td><td align=\"left\" style=\"width:20%;\">\n<span id=\"StoreControl1_GridView1_Label3_11\">榮億中彩券行</span>\n</td><td align=\"left\" style=\"width:50%;\">\n<span id=\"StoreControl1_GridView1_Label4_11\">桃園市蘆竹區五福里五福一路２０９巷２號</span>\n</td>\n</tr><tr class=\"table_level_2\" style=\"background-color:#FFFFCC;\">\n<td align=\"center\" style=\"width:3%;white-space:nowrap;\">142</td><td align=\"center\" style=\"white-space:nowrap;\">\n<span id=\"StoreControl1_GridView1_Label1_12\">109000061</span>\n</td><td align=\"center\" style=\"white-space:nowrap;\">\n<span id=\"StoreControl1_GridView1_Label2_12\">109/7/3</span>\n</td><td align=\"left\" style=\"width:20%;\">\n<span id=\"StoreControl1_GridView1_Label3_12\">幸福投注站</span>\n</td><td align=\"left\" style=\"width:50%;\">\n<span id=\"StoreControl1_GridView1_Label4_12\">台北市中正區博愛路１４２號</span>\n</td>\n</tr><tr class=\"table_level_1\" style=\"background-color:#DEE9ED;\">\n<td align=\"center\" style=\"width:3%;white-space:nowrap;\">141</td><td align=\"center\" style=\"white-space:nowrap;\">\n<span id=\"StoreControl1_GridView1_Label1_13\">109000056</span>\n</td><td align=\"center\" style=\"white-space:nowrap;\">\n<span id=\"StoreControl1_GridView1_Label2_13\">109/6/16</span>\n</td><td align=\"left\" style=\"width:20%;\">\n<span id=\"StoreControl1_GridView1_Label3_13\">爆米發彩券行</span>\n</td><td align=\"left\" style=\"width:50%;\">\n<span id=\"StoreControl1_GridView1_Label4_13\">台中市大里區中新里中興路二段２１４號１樓</span>\n</td>\n</tr><tr class=\"table_level_2\" style=\"background-color:#FFFFCC;\">\n<td align=\"center\" style=\"width:3%;white-space:nowrap;\">140</td><td align=\"center\" style=\"white-space:nowrap;\">\n<span id=\"StoreControl1_GridView1_Label1_14\">109000052</span>\n</td><td align=\"center\" style=\"white-space:nowrap;\">\n<span id=\"StoreControl1_GridView1_Label2_14\">109/6/2</span>\n</td><td align=\"left\" style=\"width:20%;\">\n<span id=\"StoreControl1_GridView1_Label3_14\">天天中大獎彩券行</span>\n</td><td align=\"left\" style=\"width:50%;\">\n<span id=\"StoreControl1_GridView1_Label4_14\">新北市三重區忠孝路二段１３８號</span>\n</td>\n</tr><tr class=\"table_level_1\" style=\"background-color:#DEE9ED;\">\n<td align=\"center\" style=\"width:3%;white-space:nowrap;\">139</td><td align=\"center\" style=\"white-space:nowrap;\">\n<span id=\"StoreControl1_GridView1_Label1_15\">109000044</span>\n</td><td align=\"center\" style=\"white-space:nowrap;\">\n<span id=\"StoreControl1_GridView1_Label2_15\">109/5/5</span>\n</td><td align=\"left\" style=\"width:20%;\">\n<span id=\"StoreControl1_GridView1_Label3_15\">欣賦彩券行</span>\n</td><td align=\"left\" style=\"width:50%;\">\n<span id=\"StoreControl1_GridView1_Label4_15\">台中市南屯區文心里大墩七街２０８號１樓</span>\n</td>\n</tr><tr class=\"table_level_2\" style=\"background-color:#FFFFCC;\">\n<td align=\"center\" style=\"width:3%;white-space:nowrap;\">138</td><td align=\"center\" style=\"white-space:nowrap;\">\n<span id=\"StoreControl1_GridView1_Label1_16\">109000019</span>\n</td><td align=\"center\" style=\"white-space:nowrap;\">\n<span id=\"StoreControl1_GridView1_Label2_16\">109/2/7</span>\n</td><td align=\"left\" style=\"width:20%;\">\n<span id=\"StoreControl1_GridView1_Label3_16\">千百萬彩券行</span>\n</td><td align=\"left\" style=\"width:50%;\">\n<span id=\"StoreControl1_GridView1_Label4_16\">桃園市桃園區大興里春日路９７９號１樓</span>\n</td>\n</tr><tr class=\"table_level_1\" style=\"background-color:#DEE9ED;\">\n<td align=\"center\" style=\"width:3%;white-space:nowrap;\">137</td><td align=\"center\" style=\"white-space:nowrap;\">\n<span id=\"StoreControl1_GridView1_Label1_17\">109000011</span>\n</td><td align=\"center\" style=\"white-space:nowrap;\">\n<span id=\"StoreControl1_GridView1_Label2_17\">109/1/27</span>\n</td><td align=\"left\" style=\"width:20%;\">\n<span id=\"StoreControl1_GridView1_Label3_17\">百勝投注站</span>\n</td><td align=\"left\" style=\"width:50%;\">\n<span id=\"StoreControl1_GridView1_Label4_17\">新北市林口區中正路１６９號</span>\n</td>\n</tr><tr class=\"table_level_2\" style=\"background-color:#FFFFCC;\">\n<td align=\"center\" style=\"width:3%;white-space:nowrap;\">136</td><td align=\"center\" style=\"white-space:nowrap;\">\n<span id=\"StoreControl1_GridView1_Label1_18\">109000009</span>\n</td><td align=\"center\" style=\"white-space:nowrap;\">\n<span id=\"StoreControl1_GridView1_Label2_18\">109/1/25</span>\n</td><td align=\"left\" style=\"width:20%;\">\n<span id=\"StoreControl1_GridView1_Label3_18\">鑫富發彩券行</span>\n</td><td align=\"left\" style=\"width:50%;\">\n<span id=\"StoreControl1_GridView1_Label4_18\">台東縣台東市豐田里中興路四段６６６號１樓</span>\n</td>\n</tr><tr class=\"table_level_1\" style=\"background-color:#DEE9ED;\">\n<td align=\"center\" style=\"width:3%;white-space:nowrap;\">135</td><td align=\"center\" style=\"white-space:nowrap;\">\n<span id=\"StoreControl1_GridView1_Label1_19\">109000004</span>\n</td><td align=\"center\" style=\"white-space:nowrap;\">\n<span id=\"StoreControl1_GridView1_Label2_19\">109/1/14</span>\n</td><td align=\"left\" style=\"width:20%;\">\n<span id=\"StoreControl1_GridView1_Label3_19\">鑫寶金財神彩券行</span>\n</td><td align=\"left\" style=\"width:50%;\">\n<span id=\"StoreControl1_GridView1_Label4_19\">台中市沙鹿區鎮南路二段２３１號</span>\n</td>\n</tr><tr align=\"center\" class=\"txt_01\" style=\"color:Black;\">\n<td colspan=\"5\"><table>\n<tr>\n<td><span>1</span></td><td><a href=\"javascript:__doPostBack('StoreControl1$GridView1','Page$2')\" style=\"color:Black;\">2</a></td><td><a href=\"javascript:__doPostBack('StoreControl1$GridView1','Page$3')\" style=\"color:Black;\">3</a></td><td><a href=\"javascript:__doPostBack('StoreControl1$GridView1','Page$4')\" style=\"color:Black;\">4</a></td><td><a href=\"javascript:__doPostBack('StoreControl1$GridView1','Page$5')\" style=\"color:Black;\">5</a></td><td><a href=\"javascript:__doPostBack('StoreControl1$GridView1','Page$6')\" style=\"color:Black;\">6</a></td><td><a href=\"javascript:__doPostBack('StoreControl1$GridView1','Page$7')\" style=\"color:Black;\">7</a></td><td><a href=\"javascript:__doPostBack('StoreControl1$GridView1','Page$8')\" style=\"color:Black;\">8</a></td>\n</tr>\n</table></td>\n</tr>\n</table>\n"
     ]
    }
   ],
   "source": [
    "#抓出table，並存成變數datas\n",
    "target = soup.find(class_='table_face')\n",
    "print(target)\n"
   ]
  },
  {
   "cell_type": "code",
   "execution_count": 5,
   "metadata": {},
   "outputs": [
    {
     "output_type": "stream",
     "name": "stdout",
     "text": [
      "['編號', '期別', '開獎日期', '售出頭獎商店名稱', '售出頭獎商店地址']\n"
     ]
    }
   ],
   "source": [
    "# header\n",
    "header = target.select('.table_firstline_left > th')\n",
    "for x in range(len(header)):\n",
    "    header_tmp.append(header[x].contents[0])\n",
    "print(header_tmp)\n"
   ]
  },
  {
   "cell_type": "code",
   "execution_count": 6,
   "metadata": {},
   "outputs": [
    {
     "output_type": "stream",
     "name": "stdout",
     "text": [
      "['110000015', '110000015', '110000014', '110000013', '109000107', '109000090', '109000090', '109000085', '109000082', '109000078', '109000072', '109000066', '109000061', '109000056', '109000052', '109000044', '109000019', '109000011', '109000009', '109000004']\n"
     ]
    }
   ],
   "source": [
    "lottery_info = target.select(\".table_level_2,.table_level_1\")\n",
    "for tr in range(len(lottery_info)):\n",
    "    td = lottery_info[tr].find_all('td')\n",
    "    id_tmp.append(str(td[0].text).strip())\n",
    "    period_tmp.append(str(td[1].text).strip())\n",
    "    date_tmp.append(str(td[2].text).strip())\n",
    "    store_tmp.append(str(td[3].text).strip())\n",
    "    address_tmp.append(str(td[4].text).strip())\n",
    "\n",
    "print(period_tmp)"
   ]
  },
  {
   "cell_type": "code",
   "execution_count": 21,
   "metadata": {},
   "outputs": [
    {
     "output_type": "stream",
     "name": "stdout",
     "text": [
      "編號  期別     開獎日期   售出頭獎商店名稱   售出頭獎商店地址\n154 110000015 110/2/12   福運彩券行        台北市大同區承德路一段１２號\n153 110000015 110/2/12   億來發彩券行        台南市中西區三合里金華路四段１５７號１樓\n152 110000014 110/2/11   沅亨商行        桃園市大溪區一心里２７鄰復興路１０號１樓\n151 110000013 110/2/10   有錢尚好樂透站        台中市霧峰區北柳里四德路４４９號１樓\n150 109000107 109/12/11   鑫采紅彩券行        高雄市左營區自由三路２９２號\n149 109000090 109/10/13   聚寶盆彩券商行        台南市北區成功路１７０號１樓\n148 109000090 109/10/13   鑫寶金財神彩券行        台中市沙鹿區鎮南路二段２３１號\n147 109000085 109/9/25   金包銀彩券行        台南市北區北安路一段１７２號１樓\n146 109000082 109/9/15   吉時樂彩券行        彰化縣北斗鎮西安里斗苑路２段１８號１樓\n145 109000078 109/9/1   工學彩券行        台中市南區工學里工學路１４３號１樓\n144 109000072 109/8/11   來富貴彩券行        台中市東區東勢里精武路１４９號\n143 109000066 109/7/21   榮億中彩券行        桃園市蘆竹區五福里五福一路２０９巷２號\n142 109000061 109/7/3   幸福投注站        台北市中正區博愛路１４２號\n141 109000056 109/6/16   爆米發彩券行        台中市大里區中新里中興路二段２１４號１樓\n140 109000052 109/6/2   天天中大獎彩券行        新北市三重區忠孝路二段１３８號\n139 109000044 109/5/5   欣賦彩券行        台中市南屯區文心里大墩七街２０８號１樓\n138 109000019 109/2/7   千百萬彩券行        桃園市桃園區大興里春日路９７９號１樓\n137 109000011 109/1/27   百勝投注站        新北市林口區中正路１６９號\n136 109000009 109/1/25   鑫富發彩券行        台東縣台東市豐田里中興路四段６６６號１樓\n135 109000004 109/1/14   鑫寶金財神彩券行        台中市沙鹿區鎮南路二段２３１號\n"
     ]
    }
   ],
   "source": [
    "print(\"{}  {}     {}   {}   {}\".format(header_tmp[0],header_tmp[1],header_tmp[2],header_tmp[3],header_tmp[4]))\n",
    "for x in range(len(id_tmp)):\n",
    "    print(\"{} {} {}   {}        {}\".format(id_tmp[x],period_tmp[x],date_tmp[x],store_tmp[x],address_tmp[x]))\n",
    "    "
   ]
  },
  {
   "cell_type": "code",
   "execution_count": 8,
   "metadata": {},
   "outputs": [],
   "source": [
    "# #在datas中選擇tbody tr的標籤\n",
    "# # tbody = block.find ('tbody')\n",
    "# datas = soup.select(\"table\")[0]\n",
    "# tr = tbody.find_all('tr')\n",
    "\n",
    "\n",
    "# for i in tr:\n",
    "#     td = i.find_all('td')\n",
    "#     number.append(int(td[1].text))\n",
    "#     period.append(int(td[2].text))\n",
    "#     date.append(int(td[3].text))\n",
    "#     store.append(str(td[4].text))\n",
    "#     address.append(str(td[5].text))\n",
    "\n",
    "# print('編號',[number])\n",
    "# print('期別',[period])\n",
    "# print('開獎日期',[date])\n",
    "# print('售出頭獎商店名稱',[store])\n",
    "# print('售出頭獎商店地址',[address])"
   ]
  }
 ],
 "metadata": {
  "kernelspec": {
   "display_name": "Python 3",
   "language": "python",
   "name": "python3"
  },
  "language_info": {
   "codemirror_mode": {
    "name": "ipython",
    "version": 3
   },
   "file_extension": ".py",
   "mimetype": "text/x-python",
   "name": "python",
   "nbconvert_exporter": "python",
   "pygments_lexer": "ipython3",
   "version": "3.8.5-final"
  }
 },
 "nbformat": 4,
 "nbformat_minor": 5
}